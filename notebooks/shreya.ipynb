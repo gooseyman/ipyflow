{
 "cells": [
  {
   "cell_type": "code",
   "execution_count": null,
   "id": "efac3249-4c84-4584-9088-89301fba8c1c",
   "metadata": {},
   "outputs": [],
   "source": [
    "a = 2"
   ]
  },
  {
   "cell_type": "code",
   "execution_count": null,
   "id": "502f295c-71c0-4f35-a6a9-4c07ccf9101b",
   "metadata": {},
   "outputs": [],
   "source": [
    "b = 2"
   ]
  },
  {
   "cell_type": "code",
   "execution_count": null,
   "id": "c9e0faab-cb8c-4f28-bfa6-e4664bbfd766",
   "metadata": {},
   "outputs": [],
   "source": [
    "b = a + a"
   ]
  },
  {
   "cell_type": "code",
   "execution_count": null,
   "id": "ff8d52fe-1733-4105-8d87-485e3902b261",
   "metadata": {},
   "outputs": [],
   "source": [
    "a = 4"
   ]
  },
  {
   "cell_type": "code",
   "execution_count": null,
   "id": "15df792a-aeb3-4db9-a1c8-c09ad48705e0",
   "metadata": {},
   "outputs": [],
   "source": [
    "b"
   ]
  },
  {
   "cell_type": "code",
   "execution_count": null,
   "id": "0ed202f6-607e-424f-bb2f-426a1b05b701",
   "metadata": {},
   "outputs": [],
   "source": [
    "b + 5"
   ]
  },
  {
   "cell_type": "code",
   "execution_count": null,
   "id": "6c14fcd3-ec61-46d1-b8a9-4b043f74e02b",
   "metadata": {},
   "outputs": [],
   "source": []
  }
 ],
 "metadata": {
  "kernelspec": {
   "display_name": "Python 3 (nbsafety)",
   "language": "python",
   "name": "nbsafety"
  },
  "language_info": {
   "codemirror_mode": {
    "name": "ipython",
    "version": 3
   },
   "file_extension": ".py",
   "mimetype": "text/x-python",
   "name": "python",
   "nbconvert_exporter": "python",
   "pygments_lexer": "ipython3",
   "version": "3.9.1"
  }
 },
 "nbformat": 4,
 "nbformat_minor": 5
}
